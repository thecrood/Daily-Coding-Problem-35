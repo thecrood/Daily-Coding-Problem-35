{
 "cells": [
  {
   "cell_type": "markdown",
   "id": "83a6fd6c",
   "metadata": {},
   "source": [
    "# Daily Coding Problem 35"
   ]
  },
  {
   "cell_type": "raw",
   "id": "28b4af09",
   "metadata": {},
   "source": [
    "This problem was asked by Google.\n",
    "\n",
    "Given an array of strictly the characters 'R', 'G', and 'B', segregate the values of the array so that all the Rs come first, the Gs come second, and the Bs come last. You can only swap elements of the array.\n",
    "\n",
    "Do this in linear time and in-place.\n",
    "\n",
    "For example, given the array ['G', 'B', 'R', 'R', 'B', 'R', 'G'], it should become ['R', 'R', 'R', 'G', 'G', 'B', 'B']."
   ]
  },
  {
   "cell_type": "markdown",
   "id": "fcea47cc",
   "metadata": {},
   "source": [
    "# Solution\n",
    "\n",
    "It may be easier to first consider an easier problem: one with only two possible values, say 'R' and 'G'. Then we could maintain the following loop invariant quite easily:\n",
    "\n",
    " * Maintain three sections of the array using two indices, low and high:\n",
    "      * Strictly 'R's: array[:low]\n",
    "      * Unknown: array[low:high]\n",
    "      * Strictly 'G's: array[high:]\n",
    "      \n",
    "Initially, low will be 0 and high will be len(array) - 1, since the whole array is unknown. As we iterate over the array, we'll swap any 'G's we see to the third section and decrement high. If we see an 'R', then we just need to increment low, since that's where it belongs. We can terminate once low crosses high. So we can gradually shrink our unknown section through the following algorithm:"
   ]
  },
  {
   "cell_type": "code",
   "execution_count": 1,
   "id": "7bdbd356",
   "metadata": {},
   "outputs": [],
   "source": [
    "def partition(arr):\n",
    "    low, high = 0, len(arr) - 1\n",
    "    while low <= high:\n",
    "        if arr[low] == 'R':\n",
    "            low += 1\n",
    "        else:\n",
    "            arr[low], arr[high] = arr[high], arr[low]\n",
    "            high -= 1"
   ]
  },
  {
   "cell_type": "markdown",
   "id": "8447711c",
   "metadata": {},
   "source": [
    "This correctly partitions our array into two separate categories. How can we extend this to three partitions? Let's maintain four sections using 3 indices, low, mid, and high:\n",
    "\n",
    " * Strictly 'R's: array[:low]\n",
    " * Strictly 'G's: array[low:mid]\n",
    " * Unknown: array[mid:high]\n",
    " * Strictly 'B's: array[high:]\n",
    " \n",
    "We'll initialize low and mid both to 0, and high to len(array) - 1 so that our unknown section is the whole array, as before. To maintain this invariant, we should do the following:\n",
    "\n",
    " * Look at array[mid]:\n",
    "     * If it's R, then swap array[low] with array[mid] and increment low and mid\n",
    "     * If it's G, then just increment mid; it's where it should be\n",
    "     * If it's B, then swap array[mid] with array[high] and decrement high\n",
    "     \n",
    "Once mid crosses over with high, then our unknown section is gone and we can terminate.\n",
    "\n",
    "Our solution looks like this:"
   ]
  },
  {
   "cell_type": "code",
   "execution_count": 2,
   "id": "18b45b67",
   "metadata": {},
   "outputs": [],
   "source": [
    "def partition(arr):\n",
    "    low, mid, high = 0, 0, len(arr) - 1\n",
    "    while mid <= high:\n",
    "        if arr[mid] == 'R':\n",
    "            arr[low], arr[mid] = arr[mid], arr[low]\n",
    "            low += 1\n",
    "            mid += 1\n",
    "        elif arr[mid] == 'G':\n",
    "            mid += 1\n",
    "        else:\n",
    "            arr[mid], arr[high] = arr[high], arr[mid]\n",
    "            high -= 1"
   ]
  },
  {
   "cell_type": "markdown",
   "id": "997dd043",
   "metadata": {},
   "source": [
    "P.S. This problem is also called the Dutch national flag problem!"
   ]
  }
 ],
 "metadata": {
  "kernelspec": {
   "display_name": "Python 3 (ipykernel)",
   "language": "python",
   "name": "python3"
  },
  "language_info": {
   "codemirror_mode": {
    "name": "ipython",
    "version": 3
   },
   "file_extension": ".py",
   "mimetype": "text/x-python",
   "name": "python",
   "nbconvert_exporter": "python",
   "pygments_lexer": "ipython3",
   "version": "3.8.10"
  }
 },
 "nbformat": 4,
 "nbformat_minor": 5
}
